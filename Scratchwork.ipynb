{
 "cells": [
  {
   "cell_type": "code",
   "execution_count": 67,
   "metadata": {},
   "outputs": [],
   "source": [
    "import os\n",
    "import cmdstanpy\n",
    "from cmdstanpy import Model, StanFit, cmdstan_path\n",
    "from cmdstanpy import Model, StanFit\n",
    "import ujson as json"
   ]
  },
  {
   "cell_type": "markdown",
   "metadata": {},
   "source": [
    "<h3>Example:</h3>\n",
    "\n",
    "Running the model on Men's 2014 World Cup"
   ]
  },
  {
   "cell_type": "code",
   "execution_count": 68,
   "metadata": {},
   "outputs": [
    {
     "data": {
      "text/plain": [
       "dict_keys(['I', 'N', 'team_1', 'team_2', 'score_1', 'score_2', 'prior_score'])"
      ]
     },
     "execution_count": 68,
     "metadata": {},
     "output_type": "execute_result"
    }
   ],
   "source": [
    "with open('../data/worldcup_gelman/worldcup_2014.data.json', 'r') as fd:\n",
    "    data_dict = json.load(fd)\n",
    "data_dict.keys()\n",
    "\n",
    "# stan_wc = Model(stan_file='../data/worldcup_gelman/worldcup_rep_ag.stan')\n",
    "# stan_wc.compile()\n",
    "# stan_wc\n",
    "\n",
    "# worldcup_fit = stan_wc.sample(data=data_dict, chains=4)\n",
    "# worldcup_fit.diagnose()\n",
    "# worldcup_fit.summary()"
   ]
  },
  {
   "cell_type": "code",
   "execution_count": 69,
   "metadata": {},
   "outputs": [
    {
     "data": {
      "text/plain": [
       "dict_keys(['countries'])"
      ]
     },
     "execution_count": 69,
     "metadata": {},
     "output_type": "execute_result"
    }
   ],
   "source": [
    "with open('../data/worldcup_gelman/countries.data.json', 'r') as fd_country:\n",
    "    country_dict = json.load(fd_country)\n",
    "country_dict.keys()"
   ]
  },
  {
   "cell_type": "markdown",
   "metadata": {},
   "source": [
    "<h3> Attempting the same for the Women' World Cup Data </h3>\n",
    "\n",
    "(Import the data... and massaging it into the format stan needs it in.) \n",
    "\n",
    "Data input needs to be in a dictionary format;\n",
    "Keys in the dictionary are the names of the variables in the data block of the stan model;"
   ]
  },
  {
   "cell_type": "code",
   "execution_count": 211,
   "metadata": {
    "scrolled": true
   },
   "outputs": [
    {
     "name": "stdout",
     "output_type": "stream",
     "text": [
      "Index(['date', 'league_id', 'league', 'team1', 'team2', 'spi1', 'spi2',\n",
      "       'prob1', 'prob2', 'probtie', 'proj_score1', 'proj_score2', 'score1',\n",
      "       'score2', 'xg1', 'xg2', 'nsxg1', 'nsxg2', 'adj_score1', 'adj_score2'],\n",
      "      dtype='object') Index(['forecast_timestamp', 'team', 'group', 'spi', 'global_o', 'global_d',\n",
      "       'sim_wins', 'sim_ties', 'sim_losses', 'sim_goal_diff', 'goals_scored',\n",
      "       'goals_against', 'group_1', 'group_2', 'group_3', 'group_4',\n",
      "       'make_round_of_16', 'make_quarters', 'make_semis', 'make_final',\n",
      "       'win_league', 'timestamp'],\n",
      "      dtype='object')\n"
     ]
    }
   ],
   "source": [
    "import pandas as pd\n",
    "matches = pd.read_csv(\"/Users/nitya/NYCPyLadies_CmdStanPy/data/womens-world-cup-2019/wwc_matches.csv\")\n",
    "forecasts = pd.read_csv(\"/Users/nitya/NYCPyLadies_CmdStanPy/data/womens-world-cup-2019/wwc_forecasts.csv\")\n",
    "print(matches.columns, forecasts.columns)"
   ]
  },
  {
   "cell_type": "code",
   "execution_count": 212,
   "metadata": {},
   "outputs": [
    {
     "data": {
      "text/plain": [
       "44   NaN\n",
       "45   NaN\n",
       "46   NaN\n",
       "47   NaN\n",
       "Name: score1, dtype: float64"
      ]
     },
     "execution_count": 212,
     "metadata": {},
     "output_type": "execute_result"
    }
   ],
   "source": [
    "matches.iloc[44:]['score1']"
   ]
  },
  {
   "cell_type": "code",
   "execution_count": 195,
   "metadata": {},
   "outputs": [],
   "source": [
    "#quarter-final info not yet filled in! Wikipedia to the rescue:[0,1,0,1]\n",
    "matches.score1.iloc[[44, 45, 46, 47]] = [0,1,0,1]\n",
    "matches.score2.iloc[[44, 45, 46, 47]] = [3,2,2,2]"
   ]
  },
  {
   "cell_type": "code",
   "execution_count": 196,
   "metadata": {
    "scrolled": true
   },
   "outputs": [
    {
     "data": {
      "text/html": [
       "<div>\n",
       "<style scoped>\n",
       "    .dataframe tbody tr th:only-of-type {\n",
       "        vertical-align: middle;\n",
       "    }\n",
       "\n",
       "    .dataframe tbody tr th {\n",
       "        vertical-align: top;\n",
       "    }\n",
       "\n",
       "    .dataframe thead th {\n",
       "        text-align: right;\n",
       "    }\n",
       "</style>\n",
       "<table border=\"1\" class=\"dataframe\">\n",
       "  <thead>\n",
       "    <tr style=\"text-align: right;\">\n",
       "      <th></th>\n",
       "      <th>date</th>\n",
       "      <th>league_id</th>\n",
       "      <th>league</th>\n",
       "      <th>team1</th>\n",
       "      <th>team2</th>\n",
       "      <th>spi1</th>\n",
       "      <th>spi2</th>\n",
       "      <th>prob1</th>\n",
       "      <th>prob2</th>\n",
       "      <th>probtie</th>\n",
       "      <th>proj_score1</th>\n",
       "      <th>proj_score2</th>\n",
       "      <th>score1</th>\n",
       "      <th>score2</th>\n",
       "      <th>xg1</th>\n",
       "      <th>xg2</th>\n",
       "      <th>nsxg1</th>\n",
       "      <th>nsxg2</th>\n",
       "      <th>adj_score1</th>\n",
       "      <th>adj_score2</th>\n",
       "    </tr>\n",
       "  </thead>\n",
       "  <tbody>\n",
       "    <tr>\n",
       "      <th>44</th>\n",
       "      <td>2019-06-27</td>\n",
       "      <td>352</td>\n",
       "      <td>FIFA Women's World Cup Final</td>\n",
       "      <td>Norway Women</td>\n",
       "      <td>England Women</td>\n",
       "      <td>84.10</td>\n",
       "      <td>92.65</td>\n",
       "      <td>0.3095</td>\n",
       "      <td>0.6905</td>\n",
       "      <td>0.0</td>\n",
       "      <td>0.81</td>\n",
       "      <td>1.47</td>\n",
       "      <td>0.0</td>\n",
       "      <td>3.0</td>\n",
       "      <td>NaN</td>\n",
       "      <td>NaN</td>\n",
       "      <td>NaN</td>\n",
       "      <td>NaN</td>\n",
       "      <td>NaN</td>\n",
       "      <td>NaN</td>\n",
       "    </tr>\n",
       "    <tr>\n",
       "      <th>45</th>\n",
       "      <td>2019-06-28</td>\n",
       "      <td>352</td>\n",
       "      <td>FIFA Women's World Cup Final</td>\n",
       "      <td>France Women</td>\n",
       "      <td>USA Women</td>\n",
       "      <td>96.79</td>\n",
       "      <td>98.50</td>\n",
       "      <td>0.4567</td>\n",
       "      <td>0.5433</td>\n",
       "      <td>0.0</td>\n",
       "      <td>1.25</td>\n",
       "      <td>1.41</td>\n",
       "      <td>1.0</td>\n",
       "      <td>2.0</td>\n",
       "      <td>NaN</td>\n",
       "      <td>NaN</td>\n",
       "      <td>NaN</td>\n",
       "      <td>NaN</td>\n",
       "      <td>NaN</td>\n",
       "      <td>NaN</td>\n",
       "    </tr>\n",
       "    <tr>\n",
       "      <th>46</th>\n",
       "      <td>2019-06-29</td>\n",
       "      <td>352</td>\n",
       "      <td>FIFA Women's World Cup Final</td>\n",
       "      <td>Italy Women</td>\n",
       "      <td>Netherlands Women</td>\n",
       "      <td>77.41</td>\n",
       "      <td>93.32</td>\n",
       "      <td>0.2146</td>\n",
       "      <td>0.7854</td>\n",
       "      <td>0.0</td>\n",
       "      <td>0.90</td>\n",
       "      <td>2.10</td>\n",
       "      <td>0.0</td>\n",
       "      <td>2.0</td>\n",
       "      <td>NaN</td>\n",
       "      <td>NaN</td>\n",
       "      <td>NaN</td>\n",
       "      <td>NaN</td>\n",
       "      <td>NaN</td>\n",
       "      <td>NaN</td>\n",
       "    </tr>\n",
       "    <tr>\n",
       "      <th>47</th>\n",
       "      <td>2019-06-29</td>\n",
       "      <td>352</td>\n",
       "      <td>FIFA Women's World Cup Final</td>\n",
       "      <td>Germany Women</td>\n",
       "      <td>Sweden Women</td>\n",
       "      <td>94.89</td>\n",
       "      <td>88.46</td>\n",
       "      <td>0.6271</td>\n",
       "      <td>0.3729</td>\n",
       "      <td>0.0</td>\n",
       "      <td>1.26</td>\n",
       "      <td>0.85</td>\n",
       "      <td>1.0</td>\n",
       "      <td>2.0</td>\n",
       "      <td>NaN</td>\n",
       "      <td>NaN</td>\n",
       "      <td>NaN</td>\n",
       "      <td>NaN</td>\n",
       "      <td>NaN</td>\n",
       "      <td>NaN</td>\n",
       "    </tr>\n",
       "  </tbody>\n",
       "</table>\n",
       "</div>"
      ],
      "text/plain": [
       "          date  league_id                        league          team1  \\\n",
       "44  2019-06-27        352  FIFA Women's World Cup Final   Norway Women   \n",
       "45  2019-06-28        352  FIFA Women's World Cup Final   France Women   \n",
       "46  2019-06-29        352  FIFA Women's World Cup Final    Italy Women   \n",
       "47  2019-06-29        352  FIFA Women's World Cup Final  Germany Women   \n",
       "\n",
       "                team2   spi1   spi2   prob1   prob2  probtie  proj_score1  \\\n",
       "44      England Women  84.10  92.65  0.3095  0.6905      0.0         0.81   \n",
       "45          USA Women  96.79  98.50  0.4567  0.5433      0.0         1.25   \n",
       "46  Netherlands Women  77.41  93.32  0.2146  0.7854      0.0         0.90   \n",
       "47       Sweden Women  94.89  88.46  0.6271  0.3729      0.0         1.26   \n",
       "\n",
       "    proj_score2  score1  score2  xg1  xg2  nsxg1  nsxg2  adj_score1  \\\n",
       "44         1.47     0.0     3.0  NaN  NaN    NaN    NaN         NaN   \n",
       "45         1.41     1.0     2.0  NaN  NaN    NaN    NaN         NaN   \n",
       "46         2.10     0.0     2.0  NaN  NaN    NaN    NaN         NaN   \n",
       "47         0.85     1.0     2.0  NaN  NaN    NaN    NaN         NaN   \n",
       "\n",
       "    adj_score2  \n",
       "44         NaN  \n",
       "45         NaN  \n",
       "46         NaN  \n",
       "47         NaN  "
      ]
     },
     "execution_count": 196,
     "metadata": {},
     "output_type": "execute_result"
    }
   ],
   "source": [
    "matches.iloc[44:]"
   ]
  },
  {
   "cell_type": "code",
   "execution_count": 197,
   "metadata": {},
   "outputs": [
    {
     "data": {
      "text/plain": [
       "(24, 24, 24)"
      ]
     },
     "execution_count": 197,
     "metadata": {},
     "output_type": "execute_result"
    }
   ],
   "source": [
    "len(matches.team2.unique()), len(matches.team1.unique()), len(forecasts.team.unique())"
   ]
  },
  {
   "cell_type": "code",
   "execution_count": 198,
   "metadata": {},
   "outputs": [
    {
     "name": "stdout",
     "output_type": "stream",
     "text": [
      "['USA' 'France' 'Germany' 'Australia' 'Netherlands' 'England' 'Japan'\n",
      " 'Canada' 'Brazil' 'Sweden' 'Spain' 'New Zealand' 'Norway' 'China'\n",
      " 'South Korea' 'Italy' 'Nigeria' 'Cameroon' 'South Africa' 'Jamaica'\n",
      " 'Scotland' 'Thailand' 'Chile' 'Argentina']\n"
     ]
    }
   ],
   "source": [
    "#Getting the scores before the tournament\n",
    "prior_tournament = forecasts[forecasts['forecast_timestamp']=='2019-05-16 18:22:11 UTC']\n",
    "countries = prior_tournament[['team', 'spi']].sort_values(by=['spi'], ascending=False)\n",
    "wwc2019_country = countries['team'].values\n",
    "print(wwc2019_country)"
   ]
  },
  {
   "cell_type": "code",
   "execution_count": 199,
   "metadata": {},
   "outputs": [],
   "source": [
    "spi = dict(zip(wwc2019_country, list(range(1, len(wwc2019_country)+1))))"
   ]
  },
  {
   "cell_type": "code",
   "execution_count": 200,
   "metadata": {},
   "outputs": [
    {
     "data": {
      "text/plain": [
       "{'USA': 1,\n",
       " 'France': 2,\n",
       " 'Germany': 3,\n",
       " 'Australia': 4,\n",
       " 'Netherlands': 5,\n",
       " 'England': 6,\n",
       " 'Japan': 7,\n",
       " 'Canada': 8,\n",
       " 'Brazil': 9,\n",
       " 'Sweden': 10,\n",
       " 'Spain': 11,\n",
       " 'New Zealand': 12,\n",
       " 'Norway': 13,\n",
       " 'China': 14,\n",
       " 'South Korea': 15,\n",
       " 'Italy': 16,\n",
       " 'Nigeria': 17,\n",
       " 'Cameroon': 18,\n",
       " 'South Africa': 19,\n",
       " 'Jamaica': 20,\n",
       " 'Scotland': 21,\n",
       " 'Thailand': 22,\n",
       " 'Chile': 23,\n",
       " 'Argentina': 24}"
      ]
     },
     "execution_count": 200,
     "metadata": {},
     "output_type": "execute_result"
    }
   ],
   "source": [
    "spi"
   ]
  },
  {
   "cell_type": "code",
   "execution_count": 201,
   "metadata": {},
   "outputs": [],
   "source": [
    "import numpy as np\n",
    "mean = np.mean(countries['spi'])\n",
    "std = np.std(countries['spi'])\n",
    "countries['prior_score'] = [(x - mean)/std for x in countries['spi']]"
   ]
  },
  {
   "cell_type": "code",
   "execution_count": 203,
   "metadata": {},
   "outputs": [],
   "source": [
    "matches['team1'] = matches['team1'].apply(lambda x: x.split('Women')[0].rstrip())\n",
    "matches['team2'] = matches['team2'].apply(lambda x: x.split('Women')[0].rstrip())"
   ]
  },
  {
   "cell_type": "code",
   "execution_count": 204,
   "metadata": {},
   "outputs": [],
   "source": [
    "#matches = matches.replace('New', 'New Zealand')"
   ]
  },
  {
   "cell_type": "code",
   "execution_count": 205,
   "metadata": {},
   "outputs": [
    {
     "data": {
      "text/plain": [
       "0           France \n",
       "1          Germany \n",
       "2            Spain \n",
       "3           Norway \n",
       "4        Australia \n",
       "5           Brazil \n",
       "6          England \n",
       "7        Argentina \n",
       "8           Canada \n",
       "9      New Zealand \n",
       "10           Chile \n",
       "11             USA \n",
       "12         Nigeria \n",
       "13         Germany \n",
       "14          France \n",
       "15       Australia \n",
       "16    South Africa \n",
       "17           Japan \n",
       "18         Jamaica \n",
       "19         England \n",
       "20     Netherlands \n",
       "21          Canada \n",
       "22          Sweden \n",
       "23             USA \n",
       "24           China \n",
       "25    South Africa \n",
       "26         Nigeria \n",
       "27     South Korea \n",
       "28           Italy \n",
       "29         Jamaica \n",
       "30        Scotland \n",
       "31           Japan \n",
       "32        Cameroon \n",
       "33     Netherlands \n",
       "34          Sweden \n",
       "35        Thailand \n",
       "36         Germany \n",
       "37          Norway \n",
       "38         England \n",
       "39          France \n",
       "40           Spain \n",
       "41          Sweden \n",
       "42           Italy \n",
       "43     Netherlands \n",
       "44          Norway \n",
       "45          France \n",
       "46           Italy \n",
       "47         Germany \n",
       "Name: team1, dtype: object"
      ]
     },
     "execution_count": 205,
     "metadata": {},
     "output_type": "execute_result"
    }
   ],
   "source": [
    "matches['team1']"
   ]
  },
  {
   "cell_type": "code",
   "execution_count": 206,
   "metadata": {},
   "outputs": [],
   "source": [
    "N = len(matches)\n",
    "I = len(wwc2019_country)"
   ]
  },
  {
   "cell_type": "code",
   "execution_count": 207,
   "metadata": {},
   "outputs": [],
   "source": [
    "mydict = dict({'I': I,\n",
    "               'N': N,\n",
    "                'team_1': matches['team1'].values,\n",
    "               'team_2': matches['team2'].values,\n",
    "               'score_1': matches['score1'].values,\n",
    "               'score_2': matches['score2'].values,\n",
    "              'prior_score': countries['prior_score'].values})"
   ]
  },
  {
   "cell_type": "code",
   "execution_count": 208,
   "metadata": {},
   "outputs": [
    {
     "data": {
      "text/plain": [
       "array(['South Korea ', 'China ', 'South Africa ', 'Nigeria ', 'Italy ',\n",
       "       'Jamaica ', 'Scotland ', 'Japan ', 'Cameroon ', 'Netherlands ',\n",
       "       'Sweden ', 'Thailand ', 'South Korea ', 'Spain ', 'Norway ',\n",
       "       'Brazil ', 'China ', 'Scotland ', 'Italy ', 'Argentina ',\n",
       "       'Cameroon ', 'New Zealand ', 'Thailand ', 'Chile ', 'Spain ',\n",
       "       'Germany ', 'France ', 'Norway ', 'Brazil ', 'Australia ',\n",
       "       'Argentina ', 'England ', 'New Zealand ', 'Canada ', 'USA ',\n",
       "       'Chile ', 'Nigeria ', 'Australia ', 'Cameroon ', 'Brazil ', 'USA ',\n",
       "       'Canada ', 'China ', 'Japan ', 'England ', 'USA ', 'Netherlands ',\n",
       "       'Sweden '], dtype=object)"
      ]
     },
     "execution_count": 208,
     "metadata": {},
     "output_type": "execute_result"
    }
   ],
   "source": [
    "mydict['team_2']"
   ]
  },
  {
   "cell_type": "code",
   "execution_count": 209,
   "metadata": {},
   "outputs": [],
   "source": [
    "mydict['team_1'] = [spi.get(x) for x in mydict['team_1']]\n",
    "mydict['team_2'] = [spi.get(x) for x in mydict['team_2']]"
   ]
  },
  {
   "cell_type": "code",
   "execution_count": 210,
   "metadata": {},
   "outputs": [
    {
     "data": {
      "text/plain": [
       "{'I': 24,\n",
       " 'N': 48,\n",
       " 'team_1': [None,\n",
       "  None,\n",
       "  None,\n",
       "  None,\n",
       "  None,\n",
       "  None,\n",
       "  None,\n",
       "  None,\n",
       "  None,\n",
       "  None,\n",
       "  None,\n",
       "  None,\n",
       "  None,\n",
       "  None,\n",
       "  None,\n",
       "  None,\n",
       "  None,\n",
       "  None,\n",
       "  None,\n",
       "  None,\n",
       "  None,\n",
       "  None,\n",
       "  None,\n",
       "  None,\n",
       "  None,\n",
       "  None,\n",
       "  None,\n",
       "  None,\n",
       "  None,\n",
       "  None,\n",
       "  None,\n",
       "  None,\n",
       "  None,\n",
       "  None,\n",
       "  None,\n",
       "  None,\n",
       "  None,\n",
       "  None,\n",
       "  None,\n",
       "  None,\n",
       "  None,\n",
       "  None,\n",
       "  None,\n",
       "  None,\n",
       "  None,\n",
       "  None,\n",
       "  None,\n",
       "  None],\n",
       " 'team_2': [None,\n",
       "  None,\n",
       "  None,\n",
       "  None,\n",
       "  None,\n",
       "  None,\n",
       "  None,\n",
       "  None,\n",
       "  None,\n",
       "  None,\n",
       "  None,\n",
       "  None,\n",
       "  None,\n",
       "  None,\n",
       "  None,\n",
       "  None,\n",
       "  None,\n",
       "  None,\n",
       "  None,\n",
       "  None,\n",
       "  None,\n",
       "  None,\n",
       "  None,\n",
       "  None,\n",
       "  None,\n",
       "  None,\n",
       "  None,\n",
       "  None,\n",
       "  None,\n",
       "  None,\n",
       "  None,\n",
       "  None,\n",
       "  None,\n",
       "  None,\n",
       "  None,\n",
       "  None,\n",
       "  None,\n",
       "  None,\n",
       "  None,\n",
       "  None,\n",
       "  None,\n",
       "  None,\n",
       "  None,\n",
       "  None,\n",
       "  None,\n",
       "  None,\n",
       "  None,\n",
       "  None],\n",
       " 'score_1': array([ 4.,  1.,  3.,  3.,  1.,  3.,  2.,  0.,  1.,  0.,  0., 13.,  2.,\n",
       "         1.,  2.,  3.,  0.,  2.,  0.,  1.,  3.,  2.,  5.,  3.,  0.,  0.,\n",
       "         0.,  1.,  0.,  1.,  3.,  0.,  2.,  2.,  0.,  0.,  3.,  1.,  3.,\n",
       "         2.,  1.,  1.,  2.,  2.,  0.,  1.,  0.,  1.]),\n",
       " 'score_2': array([0., 0., 1., 0., 2., 0., 1., 0., 0., 1., 2., 0., 0., 0., 1., 2., 1.,\n",
       "        1., 5., 0., 1., 0., 1., 0., 0., 4., 1., 2., 1., 4., 3., 2., 1., 1.,\n",
       "        2., 2., 0., 1., 0., 1., 2., 0., 0., 1., 3., 2., 2., 2.]),\n",
       " 'prior_score': array([ 1.15912251,  1.05029595,  0.9842738 ,  0.92437356,  0.89996888,\n",
       "         0.89966869,  0.87590415,  0.87214285,  0.69316466,  0.50657455,\n",
       "         0.374033  ,  0.33931471,  0.3354762 ,  0.28864717,  0.21126967,\n",
       "        -0.34467539, -0.356842  , -0.8390729 , -0.89774012, -0.99721816,\n",
       "        -1.5175916 , -1.53582942, -1.62059067, -2.30467007])}"
      ]
     },
     "execution_count": 210,
     "metadata": {},
     "output_type": "execute_result"
    }
   ],
   "source": [
    "mydict"
   ]
  },
  {
   "cell_type": "code",
   "execution_count": 158,
   "metadata": {},
   "outputs": [
    {
     "name": "stderr",
     "output_type": "stream",
     "text": [
      "INFO:cmdstanpy:compiling c++\n",
      "INFO:cmdstanpy:compiled model file: /Users/nitya/NYCPyLadies_CmdStanPy/data/worldcup_gelman/worldcup_rep_ag\n"
     ]
    },
    {
     "data": {
      "text/plain": [
       "Model(name=worldcup_rep_ag,  stan_file=\"../data/worldcup_gelman/worldcup_rep_ag.stan\", exe_file=\"/Users/nitya/NYCPyLadies_CmdStanPy/data/worldcup_gelman/worldcup_rep_ag\")"
      ]
     },
     "execution_count": 158,
     "metadata": {},
     "output_type": "execute_result"
    }
   ],
   "source": [
    "stan_wc = Model(stan_file='../data/worldcup_gelman/worldcup_rep_ag.stan')\n",
    "stan_wc.compile()\n",
    "stan_wc"
   ]
  },
  {
   "cell_type": "code",
   "execution_count": 159,
   "metadata": {},
   "outputs": [
    {
     "name": "stderr",
     "output_type": "stream",
     "text": [
      "INFO:cmdstanpy:start chain 1\n",
      "INFO:cmdstanpy:start chain 2\n",
      "INFO:cmdstanpy:finish chain 1\n",
      "INFO:cmdstanpy:start chain 3\n",
      "INFO:cmdstanpy:finish chain 2\n",
      "INFO:cmdstanpy:start chain 4\n",
      "INFO:cmdstanpy:finish chain 3\n",
      "INFO:cmdstanpy:finish chain 4\n"
     ]
    },
    {
     "ename": "RuntimeError",
     "evalue": "Error during sampling, chain 0 returned error code 70, chain 1 returned error code 70, chain 2 returned error code 70, chain 3 returned error code 70",
     "output_type": "error",
     "traceback": [
      "\u001b[0;31m---------------------------------------------------------------------------\u001b[0m",
      "\u001b[0;31mRuntimeError\u001b[0m                              Traceback (most recent call last)",
      "\u001b[0;32m<ipython-input-159-7e521d8c24e4>\u001b[0m in \u001b[0;36m<module>\u001b[0;34m\u001b[0m\n\u001b[0;32m----> 1\u001b[0;31m \u001b[0mworldcup_fit\u001b[0m \u001b[0;34m=\u001b[0m \u001b[0mstan_wc\u001b[0m\u001b[0;34m.\u001b[0m\u001b[0msample\u001b[0m\u001b[0;34m(\u001b[0m\u001b[0mdata\u001b[0m\u001b[0;34m=\u001b[0m\u001b[0mmydict\u001b[0m\u001b[0;34m,\u001b[0m \u001b[0mchains\u001b[0m\u001b[0;34m=\u001b[0m\u001b[0;36m4\u001b[0m\u001b[0;34m)\u001b[0m\u001b[0;34m\u001b[0m\u001b[0;34m\u001b[0m\u001b[0m\n\u001b[0m",
      "\u001b[0;32m~/miniconda3/lib/python3.6/site-packages/cmdstanpy/model.py\u001b[0m in \u001b[0;36msample\u001b[0;34m(self, data, chains, cores, seed, chain_ids, inits, warmup_iters, sampling_iters, save_warmup, thin, max_treedepth, metric, step_size, adapt_engaged, adapt_delta, csv_basename, show_progress)\u001b[0m\n\u001b[1;32m    483\u001b[0m                             \u001b[0mmsg\u001b[0m\u001b[0;34m,\u001b[0m \u001b[0mi\u001b[0m\u001b[0;34m,\u001b[0m \u001b[0mstanfit\u001b[0m\u001b[0;34m.\u001b[0m\u001b[0m_retcode\u001b[0m\u001b[0;34m(\u001b[0m\u001b[0mi\u001b[0m\u001b[0;34m)\u001b[0m\u001b[0;34m\u001b[0m\u001b[0;34m\u001b[0m\u001b[0m\n\u001b[1;32m    484\u001b[0m                         )\n\u001b[0;32m--> 485\u001b[0;31m                 \u001b[0;32mraise\u001b[0m \u001b[0mRuntimeError\u001b[0m\u001b[0;34m(\u001b[0m\u001b[0mmsg\u001b[0m\u001b[0;34m)\u001b[0m\u001b[0;34m\u001b[0m\u001b[0;34m\u001b[0m\u001b[0m\n\u001b[0m\u001b[1;32m    486\u001b[0m             \u001b[0mstanfit\u001b[0m\u001b[0;34m.\u001b[0m\u001b[0m_validate_csv_files\u001b[0m\u001b[0;34m(\u001b[0m\u001b[0;34m)\u001b[0m\u001b[0;34m\u001b[0m\u001b[0;34m\u001b[0m\u001b[0m\n\u001b[1;32m    487\u001b[0m         \u001b[0;32mreturn\u001b[0m \u001b[0mstanfit\u001b[0m\u001b[0;34m\u001b[0m\u001b[0;34m\u001b[0m\u001b[0m\n",
      "\u001b[0;31mRuntimeError\u001b[0m: Error during sampling, chain 0 returned error code 70, chain 1 returned error code 70, chain 2 returned error code 70, chain 3 returned error code 70"
     ]
    }
   ],
   "source": [
    "worldcup_fit = stan_wc.sample(data=mydict, chains=4)"
   ]
  },
  {
   "cell_type": "code",
   "execution_count": 160,
   "metadata": {},
   "outputs": [
    {
     "data": {
      "text/plain": [
       "{'I': 24,\n",
       " 'N': 48,\n",
       " 'team_1': [2,\n",
       "  3,\n",
       "  11,\n",
       "  13,\n",
       "  4,\n",
       "  9,\n",
       "  6,\n",
       "  24,\n",
       "  8,\n",
       "  None,\n",
       "  23,\n",
       "  1,\n",
       "  17,\n",
       "  3,\n",
       "  2,\n",
       "  4,\n",
       "  None,\n",
       "  7,\n",
       "  20,\n",
       "  6,\n",
       "  5,\n",
       "  8,\n",
       "  10,\n",
       "  1,\n",
       "  14,\n",
       "  None,\n",
       "  17,\n",
       "  None,\n",
       "  16,\n",
       "  20,\n",
       "  21,\n",
       "  7,\n",
       "  18,\n",
       "  5,\n",
       "  10,\n",
       "  22,\n",
       "  3,\n",
       "  13,\n",
       "  6,\n",
       "  2,\n",
       "  11,\n",
       "  10,\n",
       "  16,\n",
       "  5,\n",
       "  13,\n",
       "  2,\n",
       "  16,\n",
       "  3],\n",
       " 'team_2': [None,\n",
       "  14,\n",
       "  None,\n",
       "  17,\n",
       "  16,\n",
       "  20,\n",
       "  21,\n",
       "  7,\n",
       "  18,\n",
       "  5,\n",
       "  10,\n",
       "  22,\n",
       "  None,\n",
       "  11,\n",
       "  13,\n",
       "  9,\n",
       "  14,\n",
       "  21,\n",
       "  16,\n",
       "  24,\n",
       "  18,\n",
       "  None,\n",
       "  22,\n",
       "  23,\n",
       "  11,\n",
       "  3,\n",
       "  2,\n",
       "  13,\n",
       "  9,\n",
       "  4,\n",
       "  24,\n",
       "  6,\n",
       "  None,\n",
       "  8,\n",
       "  1,\n",
       "  23,\n",
       "  17,\n",
       "  4,\n",
       "  18,\n",
       "  9,\n",
       "  1,\n",
       "  8,\n",
       "  14,\n",
       "  7,\n",
       "  6,\n",
       "  1,\n",
       "  5,\n",
       "  10],\n",
       " 'score_1': [4.0,\n",
       "  1.0,\n",
       "  3.0,\n",
       "  3.0,\n",
       "  1.0,\n",
       "  3.0,\n",
       "  2.0,\n",
       "  0.0,\n",
       "  1.0,\n",
       "  0.0,\n",
       "  0.0,\n",
       "  13.0,\n",
       "  2.0,\n",
       "  1.0,\n",
       "  2.0,\n",
       "  3.0,\n",
       "  0.0,\n",
       "  2.0,\n",
       "  0.0,\n",
       "  1.0,\n",
       "  3.0,\n",
       "  2.0,\n",
       "  5.0,\n",
       "  3.0,\n",
       "  0.0,\n",
       "  0.0,\n",
       "  0.0,\n",
       "  1.0,\n",
       "  0.0,\n",
       "  1.0,\n",
       "  3.0,\n",
       "  0.0,\n",
       "  2.0,\n",
       "  2.0,\n",
       "  0.0,\n",
       "  0.0,\n",
       "  3.0,\n",
       "  1.0,\n",
       "  3.0,\n",
       "  2.0,\n",
       "  1.0,\n",
       "  1.0,\n",
       "  2.0,\n",
       "  2.0,\n",
       "  0.0,\n",
       "  1.0,\n",
       "  0.0,\n",
       "  1.0],\n",
       " 'score_2': [0.0,\n",
       "  0.0,\n",
       "  1.0,\n",
       "  0.0,\n",
       "  2.0,\n",
       "  0.0,\n",
       "  1.0,\n",
       "  0.0,\n",
       "  0.0,\n",
       "  1.0,\n",
       "  2.0,\n",
       "  0.0,\n",
       "  0.0,\n",
       "  0.0,\n",
       "  1.0,\n",
       "  2.0,\n",
       "  1.0,\n",
       "  1.0,\n",
       "  5.0,\n",
       "  0.0,\n",
       "  1.0,\n",
       "  0.0,\n",
       "  1.0,\n",
       "  0.0,\n",
       "  0.0,\n",
       "  4.0,\n",
       "  1.0,\n",
       "  2.0,\n",
       "  1.0,\n",
       "  4.0,\n",
       "  3.0,\n",
       "  2.0,\n",
       "  1.0,\n",
       "  1.0,\n",
       "  2.0,\n",
       "  2.0,\n",
       "  0.0,\n",
       "  1.0,\n",
       "  0.0,\n",
       "  1.0,\n",
       "  2.0,\n",
       "  0.0,\n",
       "  0.0,\n",
       "  1.0,\n",
       "  3.0,\n",
       "  2.0,\n",
       "  2.0,\n",
       "  2.0],\n",
       " 'prior_score': [1.1591225076217448,\n",
       "  1.0502959494381028,\n",
       "  0.9842737973593276,\n",
       "  0.924373556908823,\n",
       "  0.8999688803039264,\n",
       "  0.8996686905666724,\n",
       "  0.8759041498506239,\n",
       "  0.8721428473462146,\n",
       "  0.6931646556118151,\n",
       "  0.5065745509813141,\n",
       "  0.3740330035545687,\n",
       "  0.339314706418281,\n",
       "  0.3354761958048657,\n",
       "  0.288647172973085,\n",
       "  0.2112696670712546,\n",
       "  -0.3446753883449462,\n",
       "  -0.35684200349248135,\n",
       "  -0.8390729049252097,\n",
       "  -0.897740120351291,\n",
       "  -0.997218159366115,\n",
       "  -1.5175915951875372,\n",
       "  -1.5358294181305623,\n",
       "  -1.620590669680983,\n",
       "  -2.304670072331493]}"
      ]
     },
     "execution_count": 160,
     "metadata": {},
     "output_type": "execute_result"
    }
   ],
   "source": [
    "mydict"
   ]
  },
  {
   "cell_type": "code",
   "execution_count": null,
   "metadata": {},
   "outputs": [],
   "source": [
    "worldcup_fit.diagnose()"
   ]
  },
  {
   "cell_type": "code",
   "execution_count": 149,
   "metadata": {},
   "outputs": [
    {
     "name": "stderr",
     "output_type": "stream",
     "text": [
      "INFO:cmdstanpy:start chain 1\n",
      "INFO:cmdstanpy:start chain 2\n",
      "INFO:cmdstanpy:finish chain 1\n",
      "INFO:cmdstanpy:finish chain 2\n",
      "INFO:cmdstanpy:start chain 3\n",
      "INFO:cmdstanpy:start chain 4\n",
      "INFO:cmdstanpy:finish chain 3\n",
      "INFO:cmdstanpy:finish chain 4\n"
     ]
    },
    {
     "ename": "RuntimeError",
     "evalue": "Error during sampling, chain 0 returned error code 70, chain 1 returned error code 70, chain 2 returned error code 70, chain 3 returned error code 70",
     "output_type": "error",
     "traceback": [
      "\u001b[0;31m---------------------------------------------------------------------------\u001b[0m",
      "\u001b[0;31mRuntimeError\u001b[0m                              Traceback (most recent call last)",
      "\u001b[0;32m<ipython-input-149-0f3064d2aaf5>\u001b[0m in \u001b[0;36m<module>\u001b[0;34m\u001b[0m\n\u001b[0;32m----> 1\u001b[0;31m \u001b[0mworldcup_fit\u001b[0m \u001b[0;34m=\u001b[0m \u001b[0mstan_wc\u001b[0m\u001b[0;34m.\u001b[0m\u001b[0msample\u001b[0m\u001b[0;34m(\u001b[0m\u001b[0mdata\u001b[0m\u001b[0;34m=\u001b[0m\u001b[0mmydict\u001b[0m\u001b[0;34m,\u001b[0m \u001b[0mchains\u001b[0m\u001b[0;34m=\u001b[0m\u001b[0;36m4\u001b[0m\u001b[0;34m)\u001b[0m\u001b[0;34m\u001b[0m\u001b[0;34m\u001b[0m\u001b[0m\n\u001b[0m\u001b[1;32m      2\u001b[0m \u001b[0mworldcup_fit\u001b[0m\u001b[0;34m.\u001b[0m\u001b[0mdiagnose\u001b[0m\u001b[0;34m(\u001b[0m\u001b[0;34m)\u001b[0m\u001b[0;34m\u001b[0m\u001b[0;34m\u001b[0m\u001b[0m\n\u001b[1;32m      3\u001b[0m \u001b[0mworldcup_fit\u001b[0m\u001b[0;34m.\u001b[0m\u001b[0msummary\u001b[0m\u001b[0;34m(\u001b[0m\u001b[0;34m)\u001b[0m\u001b[0;34m\u001b[0m\u001b[0;34m\u001b[0m\u001b[0m\n",
      "\u001b[0;32m~/miniconda3/lib/python3.6/site-packages/cmdstanpy/model.py\u001b[0m in \u001b[0;36msample\u001b[0;34m(self, data, chains, cores, seed, chain_ids, inits, warmup_iters, sampling_iters, save_warmup, thin, max_treedepth, metric, step_size, adapt_engaged, adapt_delta, csv_basename, show_progress)\u001b[0m\n\u001b[1;32m    483\u001b[0m                             \u001b[0mmsg\u001b[0m\u001b[0;34m,\u001b[0m \u001b[0mi\u001b[0m\u001b[0;34m,\u001b[0m \u001b[0mstanfit\u001b[0m\u001b[0;34m.\u001b[0m\u001b[0m_retcode\u001b[0m\u001b[0;34m(\u001b[0m\u001b[0mi\u001b[0m\u001b[0;34m)\u001b[0m\u001b[0;34m\u001b[0m\u001b[0;34m\u001b[0m\u001b[0m\n\u001b[1;32m    484\u001b[0m                         )\n\u001b[0;32m--> 485\u001b[0;31m                 \u001b[0;32mraise\u001b[0m \u001b[0mRuntimeError\u001b[0m\u001b[0;34m(\u001b[0m\u001b[0mmsg\u001b[0m\u001b[0;34m)\u001b[0m\u001b[0;34m\u001b[0m\u001b[0;34m\u001b[0m\u001b[0m\n\u001b[0m\u001b[1;32m    486\u001b[0m             \u001b[0mstanfit\u001b[0m\u001b[0;34m.\u001b[0m\u001b[0m_validate_csv_files\u001b[0m\u001b[0;34m(\u001b[0m\u001b[0;34m)\u001b[0m\u001b[0;34m\u001b[0m\u001b[0;34m\u001b[0m\u001b[0m\n\u001b[1;32m    487\u001b[0m         \u001b[0;32mreturn\u001b[0m \u001b[0mstanfit\u001b[0m\u001b[0;34m\u001b[0m\u001b[0;34m\u001b[0m\u001b[0m\n",
      "\u001b[0;31mRuntimeError\u001b[0m: Error during sampling, chain 0 returned error code 70, chain 1 returned error code 70, chain 2 returned error code 70, chain 3 returned error code 70"
     ]
    }
   ],
   "source": [
    "worldcup_fit.summary()"
   ]
  },
  {
   "cell_type": "code",
   "execution_count": null,
   "metadata": {},
   "outputs": [],
   "source": []
  }
 ],
 "metadata": {
  "kernelspec": {
   "display_name": "Python 3",
   "language": "python",
   "name": "python3"
  },
  "language_info": {
   "codemirror_mode": {
    "name": "ipython",
    "version": 3
   },
   "file_extension": ".py",
   "mimetype": "text/x-python",
   "name": "python",
   "nbconvert_exporter": "python",
   "pygments_lexer": "ipython3",
   "version": "3.6.8"
  }
 },
 "nbformat": 4,
 "nbformat_minor": 2
}
